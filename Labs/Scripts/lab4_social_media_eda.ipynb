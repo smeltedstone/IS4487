{
  "cells": [
    {
      "cell_type": "markdown",
      "metadata": {
        "id": "44bKcm-fbzJN"
      },
      "source": [
        "# IS 4487 Lab 4\n",
        "\n",
        "## Outline\n",
        "\n",
        "Repeat exercises from Lab 2, but with the *X SuperBowl* social media dataset\n",
        "- Loading installed packages\n",
        "- Inspect data\n",
        "- Explore plot types\n",
        "\n",
        "<a href=\"https://colab.research.google.com/github/Stan-Pugsley/is_4487_base/blob/main/Labs/Scripts/lab4_social_media_eda.ipynb\" target=\"_parent\"><img src=\"https://colab.research.google.com/assets/colab-badge.svg\" alt=\"Open In Colab\"/></a>"
      ]
    },
    {
      "cell_type": "markdown",
      "metadata": {
        "id": "cL1yiRFBbzJP"
      },
      "source": [
        "## Load Libraries\n",
        "\n",
        "➡️ Assignment Tasks\n",
        "- Load any necessary libraries"
      ]
    },
    {
      "cell_type": "code",
      "execution_count": 1,
      "metadata": {
        "vscode": {
          "languageId": "plaintext"
        },
        "id": "jbfIEqrwbzJQ"
      },
      "outputs": [],
      "source": [
        "import pandas as pd\n",
        "import matplotlib.pyplot as plt\n",
        "import sklearn as sl"
      ]
    },
    {
      "cell_type": "markdown",
      "metadata": {
        "id": "rttieCVWbzJQ"
      },
      "source": [
        "## Import Data into Dataframe\n",
        "\n",
        "➡️ Assignment Tasks\n",
        "- Import data from the X SuperBowl dataset into a dataframe (in GitHub go to Labs > DataSets)\n",
        "- Describe or profile the dataframe\n",
        "- Make sure you watch for line breaks and emojis that might cause problems with the data import"
      ]
    },
    {
      "cell_type": "code",
      "execution_count": 2,
      "metadata": {
        "vscode": {
          "languageId": "plaintext"
        },
        "id": "i8Qp-cm6bzJQ",
        "outputId": "d166dd71-ab7b-4310-cc1b-28eedc9442d3",
        "colab": {
          "base_uri": "https://localhost:8080/"
        }
      },
      "outputs": [
        {
          "output_type": "stream",
          "name": "stdout",
          "text": [
            "Mounted at /content/gdrive\n"
          ]
        }
      ],
      "source": [
        "from google.colab import drive\n",
        "drive.mount('/content/gdrive', force_remount=True)\n",
        "\n",
        "df_new = pd.read_csv (r'/content/gdrive/MyDrive/Colab Notebooks/x_superbowl.csv')"
      ]
    },
    {
      "cell_type": "code",
      "source": [
        "df_new.info()"
      ],
      "metadata": {
        "id": "wJTS_oOJcuBM",
        "outputId": "f300ec54-c9f3-4316-a6fa-0f100bf92d5a",
        "colab": {
          "base_uri": "https://localhost:8080/"
        }
      },
      "execution_count": 3,
      "outputs": [
        {
          "output_type": "stream",
          "name": "stdout",
          "text": [
            "<class 'pandas.core.frame.DataFrame'>\n",
            "RangeIndex: 9756 entries, 0 to 9755\n",
            "Data columns (total 39 columns):\n",
            " #   Column                     Non-Null Count  Dtype  \n",
            "---  ------                     --------------  -----  \n",
            " 0   Unnamed: 0                 9756 non-null   int64  \n",
            " 1   _id                        9756 non-null   object \n",
            " 2   created_at                 9756 non-null   object \n",
            " 3   id                         9756 non-null   float64\n",
            " 4   id_str                     9756 non-null   int64  \n",
            " 5   text                       9756 non-null   object \n",
            " 6   display_text_range         3222 non-null   object \n",
            " 7   source                     9747 non-null   object \n",
            " 8   truncated                  9756 non-null   bool   \n",
            " 9   in_reply_to_status_id      2863 non-null   float64\n",
            " 10  in_reply_to_status_id_str  2863 non-null   float64\n",
            " 11  in_reply_to_user_id        2985 non-null   float64\n",
            " 12  in_reply_to_user_id_str    2985 non-null   float64\n",
            " 13  in_reply_to_screen_name    2985 non-null   object \n",
            " 14  user                       9756 non-null   object \n",
            " 15  geo                        3 non-null      object \n",
            " 16  coordinates                3 non-null      object \n",
            " 17  place                      140 non-null    object \n",
            " 18  contributors               0 non-null      float64\n",
            " 19  is_quote_status            9756 non-null   bool   \n",
            " 20  quote_count                9756 non-null   int64  \n",
            " 21  reply_count                9756 non-null   int64  \n",
            " 22  retweet_count              9756 non-null   int64  \n",
            " 23  favorite_count             9756 non-null   int64  \n",
            " 24  entities                   9756 non-null   object \n",
            " 25  favorited                  9756 non-null   bool   \n",
            " 26  retweeted                  9756 non-null   bool   \n",
            " 27  filter_level               9756 non-null   object \n",
            " 28  lang                       9756 non-null   object \n",
            " 29  matching_rules             9756 non-null   object \n",
            " 30  retweeted_status           4040 non-null   object \n",
            " 31  extended_tweet             950 non-null    object \n",
            " 32  extended_entities          590 non-null    object \n",
            " 33  possibly_sensitive         1166 non-null   object \n",
            " 34  quoted_status_id           240 non-null    float64\n",
            " 35  quoted_status_id_str       240 non-null    float64\n",
            " 36  quoted_status              238 non-null    object \n",
            " 37  quoted_status_permalink    238 non-null    object \n",
            " 38  scopes                     3 non-null      object \n",
            "dtypes: bool(4), float64(8), int64(6), object(21)\n",
            "memory usage: 2.6+ MB\n"
          ]
        }
      ]
    },
    {
      "cell_type": "markdown",
      "metadata": {
        "id": "xCD79fpHbzJR"
      },
      "source": [
        "## Prepare Data\n",
        "\n",
        "➡️ Assignment Tasks\n",
        "- Convert any numbers, such as user_mentioned, from strings into numbers\n",
        "- Reduce the variables in your dataframe to only those that have useful data\n",
        "- Optional: Locate outliers in any of the variables.   Filter them out if they are mistakes; keep them if they are exceptional cases."
      ]
    },
    {
      "cell_type": "code",
      "execution_count": 10,
      "metadata": {
        "vscode": {
          "languageId": "plaintext"
        },
        "id": "b9tlrXBqbzJR",
        "outputId": "a70b1d40-6f2d-4a8d-ca3e-1d89a38aa4b9",
        "colab": {
          "base_uri": "https://localhost:8080/",
          "height": 243
        }
      },
      "outputs": [
        {
          "output_type": "execute_result",
          "data": {
            "text/plain": [
              "   Unnamed: 0            id               id_str  truncated  is_quote_status  \\\n",
              "0           0  1.358630e+18  1358634152719839233      False            False   \n",
              "1           1  1.358630e+18  1358634138639605762      False            False   \n",
              "2           2  1.358630e+18  1358634110600826880       True            False   \n",
              "3           3  1.358630e+18  1358634090350583809      False            False   \n",
              "4           4  1.358630e+18  1358634084537352192      False            False   \n",
              "\n",
              "   quote_count  reply_count  retweet_count  favorite_count  favorited  \\\n",
              "0            0            1              0               1      False   \n",
              "1            0            0              0               0      False   \n",
              "2            0            1              0               0      False   \n",
              "3            0            0              0               0      False   \n",
              "4            0            0              0               0      False   \n",
              "\n",
              "   retweeted  \n",
              "0      False  \n",
              "1      False  \n",
              "2      False  \n",
              "3      False  \n",
              "4      False  "
            ],
            "text/html": [
              "\n",
              "  <div id=\"df-40e52163-0a17-4697-9b70-e3475cc3c577\" class=\"colab-df-container\">\n",
              "    <div>\n",
              "<style scoped>\n",
              "    .dataframe tbody tr th:only-of-type {\n",
              "        vertical-align: middle;\n",
              "    }\n",
              "\n",
              "    .dataframe tbody tr th {\n",
              "        vertical-align: top;\n",
              "    }\n",
              "\n",
              "    .dataframe thead th {\n",
              "        text-align: right;\n",
              "    }\n",
              "</style>\n",
              "<table border=\"1\" class=\"dataframe\">\n",
              "  <thead>\n",
              "    <tr style=\"text-align: right;\">\n",
              "      <th></th>\n",
              "      <th>Unnamed: 0</th>\n",
              "      <th>id</th>\n",
              "      <th>id_str</th>\n",
              "      <th>truncated</th>\n",
              "      <th>is_quote_status</th>\n",
              "      <th>quote_count</th>\n",
              "      <th>reply_count</th>\n",
              "      <th>retweet_count</th>\n",
              "      <th>favorite_count</th>\n",
              "      <th>favorited</th>\n",
              "      <th>retweeted</th>\n",
              "    </tr>\n",
              "  </thead>\n",
              "  <tbody>\n",
              "    <tr>\n",
              "      <th>0</th>\n",
              "      <td>0</td>\n",
              "      <td>1.358630e+18</td>\n",
              "      <td>1358634152719839233</td>\n",
              "      <td>False</td>\n",
              "      <td>False</td>\n",
              "      <td>0</td>\n",
              "      <td>1</td>\n",
              "      <td>0</td>\n",
              "      <td>1</td>\n",
              "      <td>False</td>\n",
              "      <td>False</td>\n",
              "    </tr>\n",
              "    <tr>\n",
              "      <th>1</th>\n",
              "      <td>1</td>\n",
              "      <td>1.358630e+18</td>\n",
              "      <td>1358634138639605762</td>\n",
              "      <td>False</td>\n",
              "      <td>False</td>\n",
              "      <td>0</td>\n",
              "      <td>0</td>\n",
              "      <td>0</td>\n",
              "      <td>0</td>\n",
              "      <td>False</td>\n",
              "      <td>False</td>\n",
              "    </tr>\n",
              "    <tr>\n",
              "      <th>2</th>\n",
              "      <td>2</td>\n",
              "      <td>1.358630e+18</td>\n",
              "      <td>1358634110600826880</td>\n",
              "      <td>True</td>\n",
              "      <td>False</td>\n",
              "      <td>0</td>\n",
              "      <td>1</td>\n",
              "      <td>0</td>\n",
              "      <td>0</td>\n",
              "      <td>False</td>\n",
              "      <td>False</td>\n",
              "    </tr>\n",
              "    <tr>\n",
              "      <th>3</th>\n",
              "      <td>3</td>\n",
              "      <td>1.358630e+18</td>\n",
              "      <td>1358634090350583809</td>\n",
              "      <td>False</td>\n",
              "      <td>False</td>\n",
              "      <td>0</td>\n",
              "      <td>0</td>\n",
              "      <td>0</td>\n",
              "      <td>0</td>\n",
              "      <td>False</td>\n",
              "      <td>False</td>\n",
              "    </tr>\n",
              "    <tr>\n",
              "      <th>4</th>\n",
              "      <td>4</td>\n",
              "      <td>1.358630e+18</td>\n",
              "      <td>1358634084537352192</td>\n",
              "      <td>False</td>\n",
              "      <td>False</td>\n",
              "      <td>0</td>\n",
              "      <td>0</td>\n",
              "      <td>0</td>\n",
              "      <td>0</td>\n",
              "      <td>False</td>\n",
              "      <td>False</td>\n",
              "    </tr>\n",
              "  </tbody>\n",
              "</table>\n",
              "</div>\n",
              "    <div class=\"colab-df-buttons\">\n",
              "\n",
              "  <div class=\"colab-df-container\">\n",
              "    <button class=\"colab-df-convert\" onclick=\"convertToInteractive('df-40e52163-0a17-4697-9b70-e3475cc3c577')\"\n",
              "            title=\"Convert this dataframe to an interactive table.\"\n",
              "            style=\"display:none;\">\n",
              "\n",
              "  <svg xmlns=\"http://www.w3.org/2000/svg\" height=\"24px\" viewBox=\"0 -960 960 960\">\n",
              "    <path d=\"M120-120v-720h720v720H120Zm60-500h600v-160H180v160Zm220 220h160v-160H400v160Zm0 220h160v-160H400v160ZM180-400h160v-160H180v160Zm440 0h160v-160H620v160ZM180-180h160v-160H180v160Zm440 0h160v-160H620v160Z\"/>\n",
              "  </svg>\n",
              "    </button>\n",
              "\n",
              "  <style>\n",
              "    .colab-df-container {\n",
              "      display:flex;\n",
              "      gap: 12px;\n",
              "    }\n",
              "\n",
              "    .colab-df-convert {\n",
              "      background-color: #E8F0FE;\n",
              "      border: none;\n",
              "      border-radius: 50%;\n",
              "      cursor: pointer;\n",
              "      display: none;\n",
              "      fill: #1967D2;\n",
              "      height: 32px;\n",
              "      padding: 0 0 0 0;\n",
              "      width: 32px;\n",
              "    }\n",
              "\n",
              "    .colab-df-convert:hover {\n",
              "      background-color: #E2EBFA;\n",
              "      box-shadow: 0px 1px 2px rgba(60, 64, 67, 0.3), 0px 1px 3px 1px rgba(60, 64, 67, 0.15);\n",
              "      fill: #174EA6;\n",
              "    }\n",
              "\n",
              "    .colab-df-buttons div {\n",
              "      margin-bottom: 4px;\n",
              "    }\n",
              "\n",
              "    [theme=dark] .colab-df-convert {\n",
              "      background-color: #3B4455;\n",
              "      fill: #D2E3FC;\n",
              "    }\n",
              "\n",
              "    [theme=dark] .colab-df-convert:hover {\n",
              "      background-color: #434B5C;\n",
              "      box-shadow: 0px 1px 3px 1px rgba(0, 0, 0, 0.15);\n",
              "      filter: drop-shadow(0px 1px 2px rgba(0, 0, 0, 0.3));\n",
              "      fill: #FFFFFF;\n",
              "    }\n",
              "  </style>\n",
              "\n",
              "    <script>\n",
              "      const buttonEl =\n",
              "        document.querySelector('#df-40e52163-0a17-4697-9b70-e3475cc3c577 button.colab-df-convert');\n",
              "      buttonEl.style.display =\n",
              "        google.colab.kernel.accessAllowed ? 'block' : 'none';\n",
              "\n",
              "      async function convertToInteractive(key) {\n",
              "        const element = document.querySelector('#df-40e52163-0a17-4697-9b70-e3475cc3c577');\n",
              "        const dataTable =\n",
              "          await google.colab.kernel.invokeFunction('convertToInteractive',\n",
              "                                                    [key], {});\n",
              "        if (!dataTable) return;\n",
              "\n",
              "        const docLinkHtml = 'Like what you see? Visit the ' +\n",
              "          '<a target=\"_blank\" href=https://colab.research.google.com/notebooks/data_table.ipynb>data table notebook</a>'\n",
              "          + ' to learn more about interactive tables.';\n",
              "        element.innerHTML = '';\n",
              "        dataTable['output_type'] = 'display_data';\n",
              "        await google.colab.output.renderOutput(dataTable, element);\n",
              "        const docLink = document.createElement('div');\n",
              "        docLink.innerHTML = docLinkHtml;\n",
              "        element.appendChild(docLink);\n",
              "      }\n",
              "    </script>\n",
              "  </div>\n",
              "\n",
              "\n",
              "<div id=\"df-837fcc4a-45eb-42bc-829c-aae69ddd5390\">\n",
              "  <button class=\"colab-df-quickchart\" onclick=\"quickchart('df-837fcc4a-45eb-42bc-829c-aae69ddd5390')\"\n",
              "            title=\"Suggest charts\"\n",
              "            style=\"display:none;\">\n",
              "\n",
              "<svg xmlns=\"http://www.w3.org/2000/svg\" height=\"24px\"viewBox=\"0 0 24 24\"\n",
              "     width=\"24px\">\n",
              "    <g>\n",
              "        <path d=\"M19 3H5c-1.1 0-2 .9-2 2v14c0 1.1.9 2 2 2h14c1.1 0 2-.9 2-2V5c0-1.1-.9-2-2-2zM9 17H7v-7h2v7zm4 0h-2V7h2v10zm4 0h-2v-4h2v4z\"/>\n",
              "    </g>\n",
              "</svg>\n",
              "  </button>\n",
              "\n",
              "<style>\n",
              "  .colab-df-quickchart {\n",
              "      --bg-color: #E8F0FE;\n",
              "      --fill-color: #1967D2;\n",
              "      --hover-bg-color: #E2EBFA;\n",
              "      --hover-fill-color: #174EA6;\n",
              "      --disabled-fill-color: #AAA;\n",
              "      --disabled-bg-color: #DDD;\n",
              "  }\n",
              "\n",
              "  [theme=dark] .colab-df-quickchart {\n",
              "      --bg-color: #3B4455;\n",
              "      --fill-color: #D2E3FC;\n",
              "      --hover-bg-color: #434B5C;\n",
              "      --hover-fill-color: #FFFFFF;\n",
              "      --disabled-bg-color: #3B4455;\n",
              "      --disabled-fill-color: #666;\n",
              "  }\n",
              "\n",
              "  .colab-df-quickchart {\n",
              "    background-color: var(--bg-color);\n",
              "    border: none;\n",
              "    border-radius: 50%;\n",
              "    cursor: pointer;\n",
              "    display: none;\n",
              "    fill: var(--fill-color);\n",
              "    height: 32px;\n",
              "    padding: 0;\n",
              "    width: 32px;\n",
              "  }\n",
              "\n",
              "  .colab-df-quickchart:hover {\n",
              "    background-color: var(--hover-bg-color);\n",
              "    box-shadow: 0 1px 2px rgba(60, 64, 67, 0.3), 0 1px 3px 1px rgba(60, 64, 67, 0.15);\n",
              "    fill: var(--button-hover-fill-color);\n",
              "  }\n",
              "\n",
              "  .colab-df-quickchart-complete:disabled,\n",
              "  .colab-df-quickchart-complete:disabled:hover {\n",
              "    background-color: var(--disabled-bg-color);\n",
              "    fill: var(--disabled-fill-color);\n",
              "    box-shadow: none;\n",
              "  }\n",
              "\n",
              "  .colab-df-spinner {\n",
              "    border: 2px solid var(--fill-color);\n",
              "    border-color: transparent;\n",
              "    border-bottom-color: var(--fill-color);\n",
              "    animation:\n",
              "      spin 1s steps(1) infinite;\n",
              "  }\n",
              "\n",
              "  @keyframes spin {\n",
              "    0% {\n",
              "      border-color: transparent;\n",
              "      border-bottom-color: var(--fill-color);\n",
              "      border-left-color: var(--fill-color);\n",
              "    }\n",
              "    20% {\n",
              "      border-color: transparent;\n",
              "      border-left-color: var(--fill-color);\n",
              "      border-top-color: var(--fill-color);\n",
              "    }\n",
              "    30% {\n",
              "      border-color: transparent;\n",
              "      border-left-color: var(--fill-color);\n",
              "      border-top-color: var(--fill-color);\n",
              "      border-right-color: var(--fill-color);\n",
              "    }\n",
              "    40% {\n",
              "      border-color: transparent;\n",
              "      border-right-color: var(--fill-color);\n",
              "      border-top-color: var(--fill-color);\n",
              "    }\n",
              "    60% {\n",
              "      border-color: transparent;\n",
              "      border-right-color: var(--fill-color);\n",
              "    }\n",
              "    80% {\n",
              "      border-color: transparent;\n",
              "      border-right-color: var(--fill-color);\n",
              "      border-bottom-color: var(--fill-color);\n",
              "    }\n",
              "    90% {\n",
              "      border-color: transparent;\n",
              "      border-bottom-color: var(--fill-color);\n",
              "    }\n",
              "  }\n",
              "</style>\n",
              "\n",
              "  <script>\n",
              "    async function quickchart(key) {\n",
              "      const quickchartButtonEl =\n",
              "        document.querySelector('#' + key + ' button');\n",
              "      quickchartButtonEl.disabled = true;  // To prevent multiple clicks.\n",
              "      quickchartButtonEl.classList.add('colab-df-spinner');\n",
              "      try {\n",
              "        const charts = await google.colab.kernel.invokeFunction(\n",
              "            'suggestCharts', [key], {});\n",
              "      } catch (error) {\n",
              "        console.error('Error during call to suggestCharts:', error);\n",
              "      }\n",
              "      quickchartButtonEl.classList.remove('colab-df-spinner');\n",
              "      quickchartButtonEl.classList.add('colab-df-quickchart-complete');\n",
              "    }\n",
              "    (() => {\n",
              "      let quickchartButtonEl =\n",
              "        document.querySelector('#df-837fcc4a-45eb-42bc-829c-aae69ddd5390 button');\n",
              "      quickchartButtonEl.style.display =\n",
              "        google.colab.kernel.accessAllowed ? 'block' : 'none';\n",
              "    })();\n",
              "  </script>\n",
              "</div>\n",
              "    </div>\n",
              "  </div>\n"
            ]
          },
          "metadata": {},
          "execution_count": 10
        }
      ],
      "source": [
        "# Identifying columns that might contain string representations of numbers\n",
        "numeric_cols_possible = df_new.select_dtypes(include=['object']).columns\n",
        "\n",
        "for col in numeric_cols_possible:\n",
        "    # Trying to convert each object column to numeric, ignoring errors\n",
        "    df_new[col] = pd.to_numeric(df_new[col], errors='coerce')\n",
        "\n",
        "# Reduce variables by removing columns with a high percentage of missing values\n",
        "threshold_missing = 0.5  # Columns with more than 50% missing values will be dropped\n",
        "df_reduced_new = df_new.dropna(thresh=int(threshold_missing * len(df_new)), axis=1)\n",
        "\n",
        "# Identify numeric columns\n",
        "numeric_columns_new = df_reduced_new.select_dtypes(include=['number']).columns\n",
        "\n",
        "# Define a function to detect outliers using IQR\n",
        "def detect_outliers(df, column):\n",
        "    Q1 = df[column].quantile(0.25)\n",
        "    Q3 = df[column].quantile(0.75)\n",
        "    IQR = Q3 - Q1\n",
        "    outlier_threshold = 1.5 * IQR\n",
        "    outliers = df[(df[column] < (Q1 - outlier_threshold)) | (df[column] > (Q3 + outlier_threshold))]\n",
        "    return outliers\n",
        "\n",
        "# Applying outlier detection\n",
        "outliers_dict = {}\n",
        "for col in numeric_columns_new:\n",
        "    outliers = detect_outliers(df_reduced_new, col)\n",
        "    if not outliers.empty:\n",
        "        outliers_dict[col] = outliers\n",
        "\n",
        "# Displaying the first few rows of the dataframe after conversion and reduction\n",
        "df_reduced_new.head()"
      ]
    },
    {
      "cell_type": "code",
      "source": [
        "outliers_dict.keys()"
      ],
      "metadata": {
        "id": "tJHXy3NmcJ2R",
        "outputId": "22a1a289-2934-4de9-8bba-58f47ccaf107",
        "colab": {
          "base_uri": "https://localhost:8080/"
        }
      },
      "execution_count": 5,
      "outputs": [
        {
          "output_type": "execute_result",
          "data": {
            "text/plain": [
              "dict_keys(['quote_count', 'reply_count', 'retweet_count', 'favorite_count'])"
            ]
          },
          "metadata": {},
          "execution_count": 5
        }
      ]
    },
    {
      "cell_type": "code",
      "source": [
        "df_reduced_new.info()"
      ],
      "metadata": {
        "id": "PzgW1PkncWmm",
        "outputId": "ffce5c25-d699-4af0-94d1-4fac3e4dccee",
        "colab": {
          "base_uri": "https://localhost:8080/"
        }
      },
      "execution_count": 6,
      "outputs": [
        {
          "output_type": "stream",
          "name": "stdout",
          "text": [
            "<class 'pandas.core.frame.DataFrame'>\n",
            "RangeIndex: 9756 entries, 0 to 9755\n",
            "Data columns (total 11 columns):\n",
            " #   Column           Non-Null Count  Dtype  \n",
            "---  ------           --------------  -----  \n",
            " 0   Unnamed: 0       9756 non-null   int64  \n",
            " 1   id               9756 non-null   float64\n",
            " 2   id_str           9756 non-null   int64  \n",
            " 3   truncated        9756 non-null   bool   \n",
            " 4   is_quote_status  9756 non-null   bool   \n",
            " 5   quote_count      9756 non-null   int64  \n",
            " 6   reply_count      9756 non-null   int64  \n",
            " 7   retweet_count    9756 non-null   int64  \n",
            " 8   favorite_count   9756 non-null   int64  \n",
            " 9   favorited        9756 non-null   bool   \n",
            " 10  retweeted        9756 non-null   bool   \n",
            "dtypes: bool(4), float64(1), int64(6)\n",
            "memory usage: 571.8 KB\n"
          ]
        }
      ]
    },
    {
      "cell_type": "markdown",
      "metadata": {
        "id": "XbRcaX-rbzJR"
      },
      "source": [
        "## Summarize Data\n",
        "\n",
        "➡️ Assignment Tasks\n",
        "- Create at least two charts to summarize and visualize the data\n",
        "- Examples include: Number of posts per device; top 10 posts with highest engagement"
      ]
    },
    {
      "cell_type": "code",
      "execution_count": 11,
      "metadata": {
        "vscode": {
          "languageId": "plaintext"
        },
        "id": "Nz9QDYk5bzJR",
        "outputId": "063ac175-0a62-402f-ed10-f9e4f02608a1",
        "colab": {
          "base_uri": "https://localhost:8080/",
          "height": 564
        }
      },
      "outputs": [
        {
          "output_type": "display_data",
          "data": {
            "text/plain": [
              "<Figure size 1000x600 with 1 Axes>"
            ],
            "image/png": "[encoded data removed]"
          },
          "metadata": {}
        }
      ],
      "source": [
        "#chart 1\n",
        "plt.figure(figsize=(10, 6))\n",
        "plt.hist(df_reduced_new['retweet_count'], bins=50, color='skyblue', edgecolor='black')\n",
        "plt.title('Distribution of Retweet Counts')\n",
        "plt.xlabel('Retweet Count')\n",
        "plt.ylabel('Frequency')\n",
        "plt.yscale('log')\n",
        "plt.grid(axis='y', alpha=0.75)\n",
        "plt.show()"
      ]
    },
    {
      "cell_type": "code",
      "execution_count": 12,
      "metadata": {
        "vscode": {
          "languageId": "plaintext"
        },
        "id": "R5bARXftbzJS",
        "outputId": "f7cca6f3-e732-4d57-d51b-a47567481698",
        "colab": {
          "base_uri": "https://localhost:8080/",
          "height": 564
        }
      },
      "outputs": [
        {
          "output_type": "display_data",
          "data": {
            "text/plain": [
              "<Figure size 1000x600 with 1 Axes>"
            ],
            "image/png": "[encoded data removed]"
          },
          "metadata": {}
        }
      ],
      "source": [
        "#chart 2\n",
        "plt.figure(figsize=(10, 6))\n",
        "plt.hist(df_reduced_new['favorite_count'], bins=50, color='salmon', edgecolor='black')\n",
        "plt.title('Distribution of Favorite Counts')\n",
        "plt.xlabel('Favorite Count')\n",
        "plt.ylabel('Frequency')\n",
        "plt.yscale('log')\n",
        "plt.grid(axis='y', alpha=0.75)\n",
        "plt.show()"
      ]
    }
  ],
  "metadata": {
    "language_info": {
      "name": "python"
    },
    "colab": {
      "provenance": []
    },
    "kernelspec": {
      "name": "python3",
      "display_name": "Python 3"
    }
  },
  "nbformat": 4,
  "nbformat_minor": 0
}